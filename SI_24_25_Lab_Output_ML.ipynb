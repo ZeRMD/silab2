   Temperature  Vibration  Pressure    Label
0           97         67        62  caution
1           68         80        87  caution
2           58         57        41  caution
3           59         12        45  caution
4            2         24        12   normal
--- Decision Tree ---
Accuracy: 0.96
              precision    recall  f1-score   support

     caution       0.96      0.99      0.97        78
      faulty       1.00      0.33      0.50         3
      normal       0.95      0.95      0.95        19

    accuracy                           0.96       100
   macro avg       0.97      0.76      0.81       100
weighted avg       0.96      0.96      0.96       100


--- Random Forest ---
Accuracy: 0.97
              precision    recall  f1-score   support

     caution       0.97      0.99      0.98        78
      faulty       1.00      0.33      0.50         3
      normal       0.95      1.00      0.97        19

    accuracy                           0.97       100
   macro avg       0.97      0.77      0.82       100
weighted avg       0.97      0.97      0.97       100


--- Logistic Regression ---
Accuracy: 0.94
              precision    recall  f1-score   support

     caution       0.94      0.99      0.96        78
      faulty       1.00      1.00      1.00         3
      normal       0.93      0.74      0.82        19

    accuracy                           0.94       100
   macro avg       0.96      0.91      0.93       100
weighted avg       0.94      0.94      0.94       100


--- K-Nearest Neighbors ---
Accuracy: 0.96
              precision    recall  f1-score   support

     caution       0.97      0.97      0.97        78
      faulty       0.75      1.00      0.86         3
      normal       0.94      0.89      0.92        19

    accuracy                           0.96       100
   macro avg       0.89      0.96      0.92       100
weighted avg       0.96      0.96      0.96       100


--- Support Vector Machine ---
Accuracy: 0.93
              precision    recall  f1-score   support

     caution       0.93      0.99      0.96        78
      faulty       0.00      0.00      0.00         3
      normal       0.94      0.84      0.89        19

    accuracy                           0.93       100
   macro avg       0.62      0.61      0.62       100
weighted avg       0.90      0.93      0.91       100


Summary of Accuracies:
Decision Tree: 0.96
Random Forest: 0.97
Logistic Regression: 0.94
K-Nearest Neighbors: 0.96
Support Vector Machine: 0.93
